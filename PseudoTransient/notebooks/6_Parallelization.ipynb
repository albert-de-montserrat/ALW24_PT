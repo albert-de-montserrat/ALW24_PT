{
 "cells": [
  {
   "cell_type": "markdown",
   "source": [
    "# Code parallelization"
   ],
   "metadata": {}
  },
  {
   "cell_type": "markdown",
   "source": [
    "# 💾 Time to program 💾"
   ],
   "metadata": {}
  },
  {
   "cell_type": "markdown",
   "source": [
    "Parallelize your previous non-linear PT solver using either ParallelStenci.jl or KernelAnstractions.jl. Suggested steps:\n",
    "1. Rewrite your kernels using standard Julia CPU functions\n",
    "2. Check the code is still producing the same results\n",
    "3. Modify the kernels to work with ParallelStenci.jl or KernelAnstractions.jl"
   ],
   "metadata": {}
  },
  {
   "cell_type": "markdown",
   "source": [
    "---\n",
    "\n",
    "*This notebook was generated using [Literate.jl](https://github.com/fredrikekre/Literate.jl).*"
   ],
   "metadata": {}
  }
 ],
 "nbformat_minor": 3,
 "metadata": {
  "language_info": {
   "file_extension": ".jl",
   "mimetype": "application/julia",
   "name": "julia",
   "version": "1.11.0-rc3"
  },
  "kernelspec": {
   "name": "julia-1.11",
   "display_name": "Julia 1.11.0-rc3",
   "language": "julia"
  }
 },
 "nbformat": 4
}
