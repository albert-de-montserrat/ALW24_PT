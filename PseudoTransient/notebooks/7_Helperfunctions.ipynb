{
 "cells": [
  {
   "cell_type": "markdown",
   "source": [
    "# Helperfunctions\n",
    "Functions that can be used during the coding sessions of the course.\n",
    "They can be make the functions you write more readable and concise."
   ],
   "metadata": {}
  },
  {
   "cell_type": "markdown",
   "source": [
    "```julia\n",
    "inn(A)   = @views A[2:end-1, 2:end-1]\n",
    "inn_x(A) = @views A[2:end-1, :]\n",
    "inn_y(A) = @views A[:, 2:end-1]\n",
    "av_x(A)  = @views @. 0.5 * (A[1:end-1, :] + A[2:end, :])\n",
    "av_y(A)  = @views @. 0.5 * (A[:, 1:end-1] + A[:, 2:end])\n",
    "av_xi(A) = @views av_x(A)[:, 2:end-1]\n",
    "av_yi(A) = @views av_y(A)[2:end-1, :]\n",
    "```"
   ],
   "metadata": {}
  },
  {
   "cell_type": "markdown",
   "source": [
    "---\n",
    "\n",
    "*This notebook was generated using [Literate.jl](https://github.com/fredrikekre/Literate.jl).*"
   ],
   "metadata": {}
  }
 ],
 "nbformat_minor": 3,
 "metadata": {
  "language_info": {
   "file_extension": ".jl",
   "mimetype": "application/julia",
   "name": "julia",
   "version": "1.11.0-rc3"
  },
  "kernelspec": {
   "name": "julia-1.11",
   "display_name": "Julia 1.11.0-rc3",
   "language": "julia"
  }
 },
 "nbformat": 4
}
