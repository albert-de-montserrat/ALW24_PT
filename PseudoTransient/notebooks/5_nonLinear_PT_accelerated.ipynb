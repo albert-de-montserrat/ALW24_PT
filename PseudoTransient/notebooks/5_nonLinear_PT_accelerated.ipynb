{
 "cells": [
  {
   "cell_type": "markdown",
   "source": [
    "# The Accelerated Pseudo-Transient iterative method: non-linear diffusion"
   ],
   "metadata": {}
  },
  {
   "cell_type": "markdown",
   "source": [
    "$$\n",
    "\\frac{\\partial h}{\\partial t} = -\\nabla \\cdot \\left(K \\nabla h \\right)  \\\\\n",
    "$$"
   ],
   "metadata": {}
  },
  {
   "cell_type": "markdown",
   "source": [
    "$$\n",
    "K = K_s \\exp(-\\lambda h_w)\n",
    "$$"
   ],
   "metadata": {}
  },
  {
   "cell_type": "markdown",
   "source": [
    "where $K_s$ is the submarine diffusion coefficient, $\\lambda$ is the submarine decay constant, and the water depth"
   ],
   "metadata": {}
  },
  {
   "cell_type": "markdown",
   "source": [
    "$$\n",
    "h_w =\n",
    "   \\left\\{\\begin{array}{lr}\n",
    "       h_s - h, & h_s \\geq h \\\\\n",
    "       0, & h_s < h\n",
    "    \\end{array}\\right.\n",
    "$$"
   ],
   "metadata": {}
  },
  {
   "cell_type": "markdown",
   "source": [
    "where $h_s$ is the sea level elevation."
   ],
   "metadata": {}
  },
  {
   "cell_type": "markdown",
   "source": [
    "# 💾 Time to program 💾"
   ],
   "metadata": {}
  },
  {
   "cell_type": "markdown",
   "source": [
    "## Arrays"
   ],
   "metadata": {}
  },
  {
   "cell_type": "markdown",
   "source": [
    "$K$ now also has to be an `Array` since it is variable in space:"
   ],
   "metadata": {}
  },
  {
   "cell_type": "markdown",
   "source": [
    "|     Array      |        size      |\n",
    "|:--------------:|:----------------:|\n",
    "| $K$            | $n   \\times n  $ |\n",
    "| $\\mathbf{h}$   | $n   \\times n  $ |\n",
    "| $\\mathbf{q}_x$ | $n-1 \\times n-2$ |\n",
    "| $\\mathbf{q}_y$ | $n-2 \\times n-1$ |\n",
    "| $\\mathbf{R}$   | $n-2 \\times n-2$ |"
   ],
   "metadata": {}
  },
  {
   "cell_type": "markdown",
   "source": [
    "Pseudo-Transient loop\n",
    "Since now the PT coefficients depend in a non-linear K, they need to be recomputed in every iteration. The non-linear PT solver should look like:"
   ],
   "metadata": {}
  },
  {
   "cell_type": "markdown",
   "source": [
    "```julia\n",
    "ϵ    = 1e-8\n",
    "er   = Inf\n",
    "iter = 0\n",
    "while er > ϵ\n",
    "    iter == itermax && break\n",
    "    tot_iter += 1\n",
    "    iter     += 1\n",
    "    h_w      .= ??\n",
    "    K        .= ??\n",
    "    Re        = @. π + √(π^2 + L^2 / K / dt)\n",
    "    Δτ_θ      = @. Vpdτ * L / K / Re\n",
    "    α_Δτ      = @. L / Vpdτ / Re\n",
    "    qx       .= ??\n",
    "    qy       .= ??\n",
    "    R        .= ??\n",
    "    @views h[2:end-1, 2:end-1] .= ??\n",
    "    # check residual\n",
    "    er        = norm(R) / n^2\n",
    "end\n",
    "```"
   ],
   "metadata": {}
  },
  {
   "cell_type": "markdown",
   "source": [
    "---\n",
    "\n",
    "*This notebook was generated using [Literate.jl](https://github.com/fredrikekre/Literate.jl).*"
   ],
   "metadata": {}
  }
 ],
 "nbformat_minor": 3,
 "metadata": {
  "language_info": {
   "file_extension": ".jl",
   "mimetype": "application/julia",
   "name": "julia",
   "version": "1.11.0-rc3"
  },
  "kernelspec": {
   "name": "julia-1.11",
   "display_name": "Julia 1.11.0-rc3",
   "language": "julia"
  }
 },
 "nbformat": 4
}
