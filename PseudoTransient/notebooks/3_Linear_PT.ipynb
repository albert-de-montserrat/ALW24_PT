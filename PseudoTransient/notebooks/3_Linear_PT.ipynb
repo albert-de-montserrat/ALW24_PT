{
 "cells": [
  {
   "cell_type": "markdown",
   "source": [
    "# The Pseudo-Transient iterative method: hillslope diffusion\n",
    "Let's start by refreshing the hillslope diffusion equation from the previous notebook:"
   ],
   "metadata": {}
  },
  {
   "cell_type": "markdown",
   "source": [
    "$$q_x = -K\\frac{\\partial h}{\\partial x}$$\n",
    "$$q_y = -K\\frac{\\partial h}{\\partial y}$$"
   ],
   "metadata": {}
  },
  {
   "cell_type": "markdown",
   "source": [
    "$$\\frac{\\partial h}{\\partial t} = -\\left(\\frac{\\partial q_x}{\\partial x} + \\frac{\\partial q_y}{\\partial y} \\right)$$"
   ],
   "metadata": {}
  },
  {
   "cell_type": "markdown",
   "source": [
    "Rearranging the previous equation we can define the residual"
   ],
   "metadata": {}
  },
  {
   "cell_type": "markdown",
   "source": [
    "$$R =-\\left(\\frac{\\partial q_x}{\\partial x} + \\frac{\\partial q_y}{\\partial y} \\right) -  \\frac{\\partial h}{\\partial t} = 0$$"
   ],
   "metadata": {}
  },
  {
   "cell_type": "markdown",
   "source": [
    "The Pseudo-Transient (PT) method is an iterative approach that augments the PDEs with a pseudo-time derivative $\\partial/\\partial\\tau$ and let it reach a steady state:"
   ],
   "metadata": {}
  },
  {
   "cell_type": "markdown",
   "source": [
    "$$\\theta \\frac{\\partial h}{\\partial \\tau} = R$$"
   ],
   "metadata": {}
  },
  {
   "cell_type": "markdown",
   "source": [
    "where $\\theta$ is a constant and $\\tau$ is usually referred as the pseudo-timestep. Therefore we can see that the new term $\\theta \\frac{\\partial h}{\\partial \\tau}$ should be zero and vanish upon convergence."
   ],
   "metadata": {}
  },
  {
   "cell_type": "markdown",
   "source": [
    "## Discretisation\n",
    "We can solve the PT equations iteratively by simply doing explicit updates. Therefore the discretised equations look like"
   ],
   "metadata": {}
  },
  {
   "cell_type": "markdown",
   "source": [
    "$$q^{(x)}_{i+\\frac{1}{2},j} = -K \\frac{h_{i+1,j}^n - h_{i,j}^n}{\\Delta x}$$\n",
    "$$q^{(y)}_{i,j+\\frac{1}{2}} = -K \\frac{h_{i,j+1}^n - h_{i,j}^n}{\\Delta y}$$"
   ],
   "metadata": {}
  },
  {
   "cell_type": "markdown",
   "source": [
    "$$\\theta \\frac{h^{n+1}_i - h^n_i}{\\Delta \\tau} = \\left(\\frac{ q^{(x)}_{i+\\frac{1}{2},j} - q^{(x)}_{i-\\frac{1}{2},j} }{\\Delta x} +\\frac{q^{(y)}_{i,j+\\frac{1}{2}} - q^{(y)}_{i,j-\\frac{1}{2}}}{\\Delta x}\\right) - \\frac{h^n_i - h^t_i}{\\Delta t} $$"
   ],
   "metadata": {}
  },
  {
   "cell_type": "markdown",
   "source": [
    "where the superscript $n$ is the PT iteration counter. As you can see the flux equation remains the same as in the explicit solver and we only need to slightly modify the $h$ update function to accommodate for the new terms of the PT equation."
   ],
   "metadata": {}
  },
  {
   "cell_type": "markdown",
   "source": [
    "# 💾 Time to program 💾"
   ],
   "metadata": {}
  },
  {
   "cell_type": "markdown",
   "source": [
    "## Arrays"
   ],
   "metadata": {}
  },
  {
   "cell_type": "markdown",
   "source": [
    "we will need an additional `Array` to solve the PT equations:"
   ],
   "metadata": {}
  },
  {
   "cell_type": "markdown",
   "source": [
    "|     Array      |        size      |\n",
    "|:--------------:|:----------------:|\n",
    "| $\\mathbf{h}$   | $n   \\times n  $ |\n",
    "| $\\mathbf{q}_x$ | $n-1 \\times n-2$ |\n",
    "| $\\mathbf{q}_y$ | $n-2 \\times n-1$ |\n",
    "| $\\mathbf{R}$   | $n-2 \\times n-2$ |"
   ],
   "metadata": {}
  },
  {
   "cell_type": "markdown",
   "source": [
    "## PT coefficients"
   ],
   "metadata": {}
  },
  {
   "cell_type": "markdown",
   "source": [
    "We now have to additional parameters in the equations, namely $\\theta$ and $\\tau$, that need to be tuned to obtain an optimal convergence rate. Use the following values from [(Räss et al., 2022)](https://doi.org/10.5194/gmd-15-5757-2022):"
   ],
   "metadata": {}
  },
  {
   "cell_type": "markdown",
   "source": [
    "$$C \\leq 1$$"
   ],
   "metadata": {}
  },
  {
   "cell_type": "markdown",
   "source": [
    "$$V_p\\Delta \\tau = C \\Delta x$$"
   ],
   "metadata": {}
  },
  {
   "cell_type": "markdown",
   "source": [
    "$$Re = π + \\sqrt{π^2 + \\frac{L^2}{K \\Delta t}}$$"
   ],
   "metadata": {}
  },
  {
   "cell_type": "markdown",
   "source": [
    "$$\\frac{\\Delta\\tau}{\\theta} = \\frac{V_p \\Delta \\tau L}{K Re}$$"
   ],
   "metadata": {}
  },
  {
   "cell_type": "markdown",
   "source": [
    "## Exercises"
   ],
   "metadata": {}
  },
  {
   "cell_type": "markdown",
   "source": [
    "1. Modify the previous explicit solver to solve the PT equations. You will need to do the following modifications:\n",
    "    1. Compute the resisudal $R$\n",
    "    2. New `update_h` function\n",
    "    3. Introduce the PT iterations within the time stepping loop. Should look similar to:\n",
    "```julia\n",
    "while t < run_time\n",
    "    ϵ    = 1e-9 # tolerance\n",
    "    er   = Inf  # global error\n",
    "    iter = 0    # PT iteration counter\n",
    "    while er > ϵ\n",
    "        # update iteration counter\n",
    "        iter += 1\n",
    "        # Compute flux (as we did in the previous exercise)\n",
    "        qx .= ??\n",
    "        qy .= ??\n",
    "        # Compute the residual R\n",
    "        R .= ??\n",
    "        # Update h\n",
    "        @views h[2:end-1, 2:end-1,] .= ??\n",
    "        # check global error\n",
    "        er = norm(R) / n^2\n",
    "    end\n",
    "    println(\"Convergence reached in $iter iterations with error $er\")\n",
    "    copyto!(h0, h)\n",
    "    nt += 1\n",
    "    t  += dt\n",
    "end\n",
    "```\n",
    "2. How far can we push $\\Delta t$ now?"
   ],
   "metadata": {}
  },
  {
   "cell_type": "markdown",
   "source": [
    "---\n",
    "\n",
    "*This notebook was generated using [Literate.jl](https://github.com/fredrikekre/Literate.jl).*"
   ],
   "metadata": {}
  }
 ],
 "nbformat_minor": 3,
 "metadata": {
  "language_info": {
   "file_extension": ".jl",
   "mimetype": "application/julia",
   "name": "julia",
   "version": "1.11.0-rc3"
  },
  "kernelspec": {
   "name": "julia-1.11",
   "display_name": "Julia 1.11.0-rc3",
   "language": "julia"
  }
 },
 "nbformat": 4
}
