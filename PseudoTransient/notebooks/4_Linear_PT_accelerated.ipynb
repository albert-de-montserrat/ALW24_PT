{
 "cells": [
  {
   "cell_type": "markdown",
   "source": [
    "# The Accelerated Pseudo-Transient iterative method"
   ],
   "metadata": {}
  },
  {
   "cell_type": "markdown",
   "source": [
    "We can improve the convergence rate of the previous PT solver by also doing a continuation also in the flux equation:"
   ],
   "metadata": {}
  },
  {
   "cell_type": "markdown",
   "source": [
    "$$\\psi \\frac{\\partial q_x}{\\partial \\tau}  + q_x = -K\\frac{\\partial h}{\\partial x}$$\n",
    "$$\\psi \\frac{\\partial q_y}{\\partial \\tau}  + q_y = -K\\frac{\\partial h}{\\partial y}$$"
   ],
   "metadata": {}
  },
  {
   "cell_type": "markdown",
   "source": [
    "## Discretisation\n",
    "We can solve the PT equations iteratively by simply doing explicit updates. Therefore, the discretised equations looks like"
   ],
   "metadata": {}
  },
  {
   "cell_type": "markdown",
   "source": [
    "$$\\psi \\frac{q_{(x)i+\\frac{1}{2}, j}^{n+1} - q_{(x)i+\\frac{1}{2}, j}^n}{\\Delta \\tau} + q_{(x)i+\\frac{1}{2}, j}^n = -K \\frac{h_{i+1,j}^n - h_{i,j}^n}{\\Delta x}$$"
   ],
   "metadata": {}
  },
  {
   "cell_type": "markdown",
   "source": [
    "# Further accelerating the PT iterations"
   ],
   "metadata": {}
  },
  {
   "cell_type": "markdown",
   "source": [
    "So far we have discretised both the flux and diffusion PT equations in an explicit manner. We can further improve the convergence of the iterative solver by discretising these equations in an implicit way."
   ],
   "metadata": {}
  },
  {
   "cell_type": "markdown",
   "source": [
    "$$\\psi \\frac{q_{(x)i+\\frac{1}{2}, j}^{n+1} - q_{(x)i+\\frac{1}{2}, j}^n}{\\Delta \\tau} + q_{(x)i+\\frac{1}{2}, j}^{n+1} = -K \\frac{h_{i+1,j}^n - h_{i,j}^n}{\\Delta x}$$"
   ],
   "metadata": {}
  },
  {
   "cell_type": "markdown",
   "source": [
    "$$\\psi \\frac{q_{(x)i, j+\\frac{1}{2}}^{n+1} - q_{(x)i, j+\\frac{1}{2}}^n}{\\Delta \\tau} + q_{(x)i, j+\\frac{1}{2}}^{n+1} = -K \\frac{h_{i,j+1}^n - h_{i,j}^n}{\\Delta x}$$"
   ],
   "metadata": {}
  },
  {
   "cell_type": "markdown",
   "source": [
    "and"
   ],
   "metadata": {}
  },
  {
   "cell_type": "markdown",
   "source": [
    "$$\\theta \\frac{h^{n+1}_i - h^n_i}{\\Delta \\tau} + \\frac{h^{n+1}_i - h^t_i}{\\Delta t} = -\\left(\\frac{ q^{n+1}_{(x)i+\\frac{1}{2},j} - q^{n+1}_{(x)-\\frac{1}{2},j} }{\\Delta x} +\\frac{q^{n+1}_{(y)i,j+\\frac{1}{2}} - q^{n+1}_{(y)i,j-\\frac{1}{2}}}{\\Delta x}\\right)$$"
   ],
   "metadata": {}
  },
  {
   "cell_type": "markdown",
   "source": [
    "# Time to pogram!"
   ],
   "metadata": {}
  },
  {
   "cell_type": "markdown",
   "source": [
    "Modify your solver to use the accelerated PT diffusion equation."
   ],
   "metadata": {}
  },
  {
   "cell_type": "markdown",
   "source": [
    "## PT coefficients"
   ],
   "metadata": {}
  },
  {
   "cell_type": "markdown",
   "source": [
    "We now have the additional $\\psi$ damping coefficient. Use:\n",
    "$$ \\frac{\\alpha}{\\Delta\\tau} = \\frac{L}{V_p \\Delta\\tau Re}$$"
   ],
   "metadata": {}
  },
  {
   "cell_type": "markdown",
   "source": [
    "---\n",
    "\n",
    "*This notebook was generated using [Literate.jl](https://github.com/fredrikekre/Literate.jl).*"
   ],
   "metadata": {}
  }
 ],
 "nbformat_minor": 3,
 "metadata": {
  "language_info": {
   "file_extension": ".jl",
   "mimetype": "application/julia",
   "name": "julia",
   "version": "1.11.0-rc3"
  },
  "kernelspec": {
   "name": "julia-1.11",
   "display_name": "Julia 1.11.0-rc3",
   "language": "julia"
  }
 },
 "nbformat": 4
}
